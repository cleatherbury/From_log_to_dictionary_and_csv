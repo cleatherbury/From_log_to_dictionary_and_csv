{
 "cells": [
  {
   "cell_type": "code",
   "execution_count": 2,
   "metadata": {},
   "outputs": [
    {
     "name": "stdout",
     "output_type": "stream",
     "text": [
      "({'Created ticket': 10, 'Closed ticket': 9, 'The ticket was modified while updating': 8, 'Permission denied while closing ticket': 9, 'Commented on ticket': 12, 'Tried to add information to closed ticket': 11, 'Timeout while retrieving information': 14, \"Ticket doesn't exist\": 6, 'Connection to DB failed': 12}, {'mdouglas': {'INFO': 2, 'ERROR': 3}, 'noel': {'INFO': 6, 'ERROR': 3}, 'breee': {'INFO': 1, 'ERROR': 5}, 'ac': {'INFO': 2, 'ERROR': 2}, 'blossom': {'INFO': 2, 'ERROR': 6}, 'rr.robinson': {'INFO': 2, 'ERROR': 1}, 'mcintosh': {'INFO': 4, 'ERROR': 3}, 'jackowens': {'INFO': 2, 'ERROR': 4}, 'oren': {'INFO': 2, 'ERROR': 7}, 'xlg': {'INFO': 0, 'ERROR': 4}, 'ahmed.miller': {'INFO': 2, 'ERROR': 4}, 'bpacheco': {'INFO': 0, 'ERROR': 2}, 'enim.non': {'INFO': 2, 'ERROR': 3}, 'flavia': {'INFO': 0, 'ERROR': 5}, 'sri': {'INFO': 2, 'ERROR': 2}, 'nonummy': {'INFO': 2, 'ERROR': 3}, 'britanni': {'INFO': 1, 'ERROR': 1}, 'montanap': {'INFO': 0, 'ERROR': 4}, 'mai.hendrix': {'INFO': 0, 'ERROR': 3}, 'kirknixon': {'INFO': 2, 'ERROR': 1}})\n",
      "[('Timeout while retrieving information', 14), ('Commented on ticket', 12), ('Connection to DB failed', 12), ('Tried to add information to closed ticket', 11), ('Created ticket', 10), ('Closed ticket', 9), ('Permission denied while closing ticket', 9), ('The ticket was modified while updating', 8), (\"Ticket doesn't exist\", 6)]\n",
      "[('ac', {'INFO': 2, 'ERROR': 2}), ('ahmed.miller', {'INFO': 2, 'ERROR': 4}), ('blossom', {'INFO': 2, 'ERROR': 6}), ('bpacheco', {'INFO': 0, 'ERROR': 2}), ('breee', {'INFO': 1, 'ERROR': 5}), ('britanni', {'INFO': 1, 'ERROR': 1}), ('enim.non', {'INFO': 2, 'ERROR': 3}), ('flavia', {'INFO': 0, 'ERROR': 5}), ('jackowens', {'INFO': 2, 'ERROR': 4}), ('kirknixon', {'INFO': 2, 'ERROR': 1}), ('mai.hendrix', {'INFO': 0, 'ERROR': 3}), ('mcintosh', {'INFO': 4, 'ERROR': 3}), ('mdouglas', {'INFO': 2, 'ERROR': 3}), ('montanap', {'INFO': 0, 'ERROR': 4}), ('noel', {'INFO': 6, 'ERROR': 3}), ('nonummy', {'INFO': 2, 'ERROR': 3}), ('oren', {'INFO': 2, 'ERROR': 7}), ('rr.robinson', {'INFO': 2, 'ERROR': 1}), ('sri', {'INFO': 2, 'ERROR': 2}), ('xlg', {'INFO': 0, 'ERROR': 4})]\n"
     ]
    }
   ],
   "source": [
    "#!/usr/bin/env python3\n",
    "\n",
    "import re\n",
    "import sys\n",
    "import csv\n",
    "import os\n",
    "import operator\n",
    "#Initialize dictionaries\n",
    "error_messages = {}\n",
    "per_user = {}\n",
    "#Defines sys.argv[] for the logfile\n",
    "log_file = sys.argv[1]\n",
    "\n",
    "def create_dictionary(log_file):\n",
    "  '''This code creates a dictionary from a logfile'''\n",
    "  with open(log_file, mode='r',encoding='UTF-8') as file:\n",
    "    lines = file.readlines()\n",
    "    for line in lines:\n",
    "      line = line.strip()\n",
    "      result = re.search(r\"ticky: ([\\w+]*):? ([\\w' ]*) [\\[[0-9#]*\\]?]? ?\\((.*)\\)$\", line)\n",
    "      if result is None:\n",
    "        return None\n",
    "      if result[2] not in error_messages.keys():\n",
    "          error_messages[result[2]] = 0\n",
    "      else:\n",
    "        error_messages[result[2]] += 1\n",
    "      if result[3] not in per_user.keys():\n",
    "        per_user[result[3]] = {}\n",
    "        per_user[result[3]][\"INFO\"] = 0\n",
    "        per_user[result[3]][\"ERROR\"] = 0       \n",
    "      if result[1] == \"INFO\":\n",
    "        per_user[result[3]][\"INFO\"] += 1\n",
    "      else:\n",
    "        per_user[result[3]][\"ERROR\"] += 1   \n",
    "  file.close()   \n",
    "  return error_messages, per_user\n",
    "\n",
    "def create_csv_files():\n",
    "  '''This code defines dictionaries, sorts the them, and creates 2 log_report csv files'''\n",
    "  dictionary = create_dictionary(log_file)\n",
    "  error_dictionary = dictionary[0]\n",
    "  user_dictionary = dictionary[1]\n",
    "  error_dictionary = sorted(error_dictionary.items(), key = operator.itemgetter(1), reverse = True)\n",
    "  user_dictionary = sorted(user_dictionary.items())\n",
    "  print(dictionary)\n",
    "  print(error_dictionary) \n",
    "  print(user_dictionary)\n",
    "  #openning error_message file to write message data\n",
    "  with open(\"error_message.csv\", 'w') as file:\n",
    "    file.write(\"Error,Count\\n\")\n",
    "    for error in error_dictionary:\n",
    "      a,b = error\n",
    "      file.write(str(a)+','+str(b)+'\\n')\n",
    "  file.close()\n",
    "  #openning error_message file to write statistics data\n",
    "  with open(\"user_statistics.csv\", 'w') as file:\n",
    "    file.write(\"Username,INFO,ERROR\\n\")\n",
    "    for stats in user_dictionary:\n",
    "      a, b = stats\n",
    "      file.write(str(a)+','+str(b[\"INFO\"])+','+str(b[\"ERROR\"])+'\\n')\n",
    "  file.close()\n",
    "\n",
    "if __name__ == '__main__':\n",
    "  '''Here we call the main function to create csv files and define the log_file.'''\n",
    "  log_file = '/Users/chris/Documents/GitHub/from_log_to_dictionary_and_csv/syslog.log'\n",
    "  create_csv_files()"
   ]
  }
 ],
 "metadata": {
  "kernelspec": {
   "display_name": "Python 3",
   "language": "python",
   "name": "python3"
  },
  "language_info": {
   "codemirror_mode": {
    "name": "ipython",
    "version": 3
   },
   "file_extension": ".py",
   "mimetype": "text/x-python",
   "name": "python",
   "nbconvert_exporter": "python",
   "pygments_lexer": "ipython3",
   "version": "3.11.4"
  },
  "orig_nbformat": 4
 },
 "nbformat": 4,
 "nbformat_minor": 2
}
